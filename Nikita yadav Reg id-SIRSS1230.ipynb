{
 "cells": [
  {
   "cell_type": "markdown",
   "id": "723d285f",
   "metadata": {},
   "source": [
    "## Assignment 2"
   ]
  },
  {
   "cell_type": "markdown",
   "id": "05847974",
   "metadata": {},
   "source": [
    "Question 1"
   ]
  },
  {
   "cell_type": "code",
   "execution_count": 10,
   "id": "e97c35a7",
   "metadata": {},
   "outputs": [
    {
     "data": {
      "text/plain": [
       "'I'"
      ]
     },
     "execution_count": 10,
     "metadata": {},
     "output_type": "execute_result"
    }
   ],
   "source": [
    "# lambda expression to extract first word of a string.\n",
    "\n",
    "x = lambda a : a.split()[0][0]\n",
    "    \n",
    "x('I m an Engineer')"
   ]
  },
  {
   "cell_type": "markdown",
   "id": "cb77aaca",
   "metadata": {},
   "source": [
    "Question 2"
   ]
  },
  {
   "cell_type": "code",
   "execution_count": 4,
   "id": "11e9f86f",
   "metadata": {},
   "outputs": [
    {
     "data": {
      "text/plain": [
       "'She'"
      ]
     },
     "execution_count": 4,
     "metadata": {},
     "output_type": "execute_result"
    }
   ],
   "source": [
    "# lambda expression to extract first word of a string.\n",
    "\n",
    "x = lambda a : a.split()[0]\n",
    "\n",
    "x('She is very good')"
   ]
  },
  {
   "cell_type": "markdown",
   "id": "9ba13216",
   "metadata": {},
   "source": [
    "Question 3"
   ]
  },
  {
   "cell_type": "code",
   "execution_count": 5,
   "id": "4289906c",
   "metadata": {},
   "outputs": [
    {
     "data": {
      "text/plain": [
       "['She', 'He', 'Batch']"
      ]
     },
     "execution_count": 5,
     "metadata": {},
     "output_type": "execute_result"
    }
   ],
   "source": [
    "#Getting first word of all the strings using map function.\n",
    "\n",
    "lst = ['She is an Engineer','He is aDoctor ','Batch 2022']\n",
    "\n",
    "list(map(x, lst))"
   ]
  },
  {
   "cell_type": "markdown",
   "id": "913e72c7",
   "metadata": {},
   "source": [
    "Question 4"
   ]
  },
  {
   "cell_type": "code",
   "execution_count": 6,
   "id": "fecfe4f6",
   "metadata": {},
   "outputs": [
    {
     "data": {
      "text/plain": [
       "[2, 2, 5]"
      ]
     },
     "execution_count": 6,
     "metadata": {},
     "output_type": "execute_result"
    }
   ],
   "source": [
    "import math\n",
    "\n",
    "def check_prime(x):\n",
    "    \"\"\"Function accept a number and check if the number is prime or not\"\"\"\n",
    "    \n",
    "    for i in range(2,x):\n",
    "        if x % i == 0:\n",
    "            flag = False\n",
    "            break\n",
    "        else:\n",
    "            flag = True\n",
    "        \n",
    "    return flag\n",
    "\n",
    "#function to return a list of prime factors of given number!\n",
    "def prime_factor(x):\n",
    "    \"\"\"Function accepts a number and returns list of prime factors for it\"\"\"\n",
    "    factors = []\n",
    "    check = check_prime(x)\n",
    "    if not(check):\n",
    "        i = 2\n",
    "        while i <= x:            \n",
    "            if(x % i == 0):\n",
    "                factors.append(i)\n",
    "                x = math.floor(x // i)\n",
    "            else: \n",
    "                i += 1\n",
    "\n",
    "    else:\n",
    "        factors.append('This is prime number')\n",
    "        \n",
    "    return factors\n",
    "\n",
    "prime_factor(20)"
   ]
  },
  {
   "cell_type": "markdown",
   "id": "624d5092",
   "metadata": {},
   "source": [
    "Question 5"
   ]
  },
  {
   "cell_type": "code",
   "execution_count": 7,
   "id": "1b50778a",
   "metadata": {},
   "outputs": [
    {
     "data": {
      "text/plain": [
       "24"
      ]
     },
     "execution_count": 7,
     "metadata": {},
     "output_type": "execute_result"
    }
   ],
   "source": [
    "#function to find 2nd largest among 4 numbers (Repetitions are allowed,without sorting).\n",
    "\n",
    "lst = [24,62,24,20]\n",
    "def remove_element(lst,element):\n",
    "    lst.remove(element)\n",
    "    return lst\n",
    "\n",
    "def second_largest(lst):\n",
    "    \"\"\"Function take list of the numeber and finds 2nd largest among them\"\"\"\n",
    "    \n",
    "    for j in range(3):\n",
    "        lar = lst[0]\n",
    "        for i in range(len(lst)):\n",
    "            if lst[i] > lar:\n",
    "                lar = lst[i]\n",
    "                \n",
    "        if j != 2:\n",
    "            lst = remove_element(lst,lar)\n",
    "#         print(lst)\n",
    "    \n",
    "    return lar\n",
    "        \n",
    "second_largest(lst)"
   ]
  }
 ],
 "metadata": {
  "kernelspec": {
   "display_name": "Python 3",
   "language": "python",
   "name": "python3"
  },
  "language_info": {
   "codemirror_mode": {
    "name": "ipython",
    "version": 3
   },
   "file_extension": ".py",
   "mimetype": "text/x-python",
   "name": "python",
   "nbconvert_exporter": "python",
   "pygments_lexer": "ipython3",
   "version": "3.7.3"
  }
 },
 "nbformat": 4,
 "nbformat_minor": 5
}
